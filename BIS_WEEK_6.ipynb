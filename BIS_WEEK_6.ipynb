{
  "nbformat": 4,
  "nbformat_minor": 0,
  "metadata": {
    "colab": {
      "provenance": [],
      "authorship_tag": "ABX9TyO8siQNtIq8MVgctLqLz93D",
      "include_colab_link": true
    },
    "kernelspec": {
      "name": "python3",
      "display_name": "Python 3"
    },
    "language_info": {
      "name": "python"
    }
  },
  "cells": [
    {
      "cell_type": "markdown",
      "metadata": {
        "id": "view-in-github",
        "colab_type": "text"
      },
      "source": [
        "<a href=\"https://colab.research.google.com/github/AbR04/BIS-LAB/blob/main/BIS_WEEK_6.ipynb\" target=\"_parent\"><img src=\"https://colab.research.google.com/assets/colab-badge.svg\" alt=\"Open In Colab\"/></a>"
      ]
    },
    {
      "cell_type": "code",
      "execution_count": null,
      "metadata": {
        "colab": {
          "base_uri": "https://localhost:8080/"
        },
        "id": "FAgKtvyRKs5E",
        "outputId": "83829733-a3c8-4381-c7ce-dc0705e71c2e"
      },
      "outputs": [
        {
          "output_type": "stream",
          "name": "stdout",
          "text": [
            "StudentName: Abubakar Mohammedshafee Matte\n",
            "USN: 1BM22CS010\n",
            "Iter 1/5, Best Score: 88.15794960213961, Best Pos: [-7.24905462 -3.40834127 -1.99853308 -0.8786732   4.38476516]\n",
            "Iter 2/5, Best Score: 16.04935586454311, Best Pos: [ 2.13851823 -2.13744963 -0.1735102  -2.15833254 -1.48959712]\n",
            "Iter 3/5, Best Score: 8.978029949548004, Best Pos: [ 0.80574964 -0.27178569  0.89005149 -2.66481024  0.60126926]\n",
            "Iter 4/5, Best Score: 4.460927834232964, Best Pos: [-0.87081132  0.05289537  0.68976902 -1.73439816 -0.46464964]\n",
            "Iter 5/5, Best Score: 2.1111681181223463, Best Pos: [-0.61167215  0.05551636  0.55217204 -1.17411109  0.22474969]\n",
            "\n",
            "Final Best Score: 2.1111681181223463\n",
            "Final Best Pos: [-0.61167215  0.05551636  0.55217204 -1.17411109  0.22474969]\n"
          ]
        }
      ],
      "source": [
        "import numpy as np\n",
        "\n",
        "def obj_fn(x):\n",
        "    return np.sum(x**2)\n",
        "\n",
        "def gwo(obj_fn, dim, wolves, iters, lb, ub):\n",
        "    pos = np.random.uniform(low=lb, high=ub, size=(wolves, dim))\n",
        "    a_pos, b_pos, d_pos = np.zeros(dim), np.zeros(dim), np.zeros(dim)\n",
        "    a_score, b_score, d_score = float(\"inf\"), float(\"inf\"), float(\"inf\")\n",
        "\n",
        "    for t in range(iters):\n",
        "        for i in range(wolves):\n",
        "            fit = obj_fn(pos[i])\n",
        "            if fit < a_score:\n",
        "                d_score, d_pos = b_score, b_pos.copy()\n",
        "                b_score, b_pos = a_score, a_pos.copy()\n",
        "                a_score, a_pos = fit, pos[i].copy()\n",
        "            elif fit < b_score:\n",
        "                d_score, d_pos = b_score, b_pos.copy()\n",
        "                b_score, b_pos = fit, pos[i].copy()\n",
        "            elif fit < d_score:\n",
        "                d_score, d_pos = fit, pos[i].copy()\n",
        "\n",
        "        a = 2 - t * (2 / iters)\n",
        "        for i in range(wolves):\n",
        "            for j in range(dim):\n",
        "                r1, r2 = np.random.rand(), np.random.rand()\n",
        "                A1, C1 = 2 * a * r1 - a, 2 * r2\n",
        "                D_a = abs(C1 * a_pos[j] - pos[i, j])\n",
        "                X1 = a_pos[j] - A1 * D_a\n",
        "\n",
        "                r1, r2 = np.random.rand(), np.random.rand()\n",
        "                A2, C2 = 2 * a * r1 - a, 2 * r2\n",
        "                D_b = abs(C2 * b_pos[j] - pos[i, j])\n",
        "                X2 = b_pos[j] - A2 * D_b\n",
        "\n",
        "                r1, r2 = np.random.rand(), np.random.rand()\n",
        "                A3, C3 = 2 * a * r1 - a, 2 * r2\n",
        "                D_d = abs(C3 * d_pos[j] - pos[i, j])\n",
        "                X3 = d_pos[j] - A3 * D_d\n",
        "\n",
        "                pos[i, j] = (X1 + X2 + X3) / 3\n",
        "            pos[i] = np.clip(pos[i], lb, ub)\n",
        "\n",
        "        print(f\"Iter {t+1}/{iters}, Best Score: {a_score}, Best Pos: {a_pos}\")\n",
        "\n",
        "    return a_score, a_pos\n",
        "\n",
        "# Print student details\n",
        "print(\"StudentName: Abhinav Raghu\")\n",
        "print(\"USN: 1BM22CS005\")\n",
        "\n",
        "# Parameters\n",
        "dim = 5\n",
        "wolves = 20\n",
        "iters = 5\n",
        "lb = -10\n",
        "ub = 10\n",
        "\n",
        "# Run the algorithm\n",
        "best_score, best_pos = gwo(obj_fn, dim, wolves, iters, lb, ub)\n",
        "\n",
        "# Print final results\n",
        "print(\"\\nFinal Best Score:\", best_score)\n",
        "print(\"Final Best Pos:\", best_pos)"
      ]
    }
  ]
}