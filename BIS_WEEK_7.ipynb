{
  "nbformat": 4,
  "nbformat_minor": 0,
  "metadata": {
    "colab": {
      "provenance": [],
      "authorship_tag": "ABX9TyOpC1XzvzrDunM37sJAooet",
      "include_colab_link": true
    },
    "kernelspec": {
      "name": "python3",
      "display_name": "Python 3"
    },
    "language_info": {
      "name": "python"
    }
  },
  "cells": [
    {
      "cell_type": "markdown",
      "metadata": {
        "id": "view-in-github",
        "colab_type": "text"
      },
      "source": [
        "<a href=\"https://colab.research.google.com/github/AbR04/BIS-LAB/blob/main/BIS_WEEK_7.ipynb\" target=\"_parent\"><img src=\"https://colab.research.google.com/assets/colab-badge.svg\" alt=\"Open In Colab\"/></a>"
      ]
    },
    {
      "cell_type": "code",
      "execution_count": null,
      "metadata": {
        "colab": {
          "base_uri": "https://localhost:8080/"
        },
        "id": "JeXkhoV_E3In",
        "outputId": "3f1eeadd-e217-4a44-e79f-ca877f63a9d3"
      },
      "outputs": [
        {
          "output_type": "stream",
          "name": "stdout",
          "text": [
            "StudentName: Abhinav Raghu\n",
            "USN: 1BM22CS005\n",
            "Iteration 1/5, Best Fitness: 51.98230986139638\n",
            "Iteration 2/5, Best Fitness: 6.839283692809314\n",
            "Iteration 3/5, Best Fitness: 2.1017108979396117\n",
            "Iteration 4/5, Best Fitness: 2.1017108979396117\n",
            "Iteration 5/5, Best Fitness: 2.0531252490119662\n",
            "\n",
            "Final Best Fitness: 2.0531252490119662\n",
            "Final Best Solution: [-0.18259186  0.97947116  0.14605415 -0.61180103 -0.81534618]\n"
          ]
        }
      ],
      "source": [
        "import numpy as np\n",
        "\n",
        "def obj_fn(x):\n",
        "    return np.sum(x**2)\n",
        "\n",
        "def update_cell_state(cell, neighbors, lb, ub):\n",
        "    new_state = np.mean(neighbors, axis=0)\n",
        "    new_state = np.clip(new_state, lb, ub)\n",
        "    return new_state\n",
        "\n",
        "def parallel_cellular_algorithm(obj_fn, dim, grid_size, iterations, lb, ub):\n",
        "    grid = np.random.uniform(lb, ub, (grid_size, grid_size, dim))\n",
        "    best_solution = None\n",
        "    best_fitness = float('inf')\n",
        "    neighborhood = [(-1, 0), (1, 0), (0, -1), (0, 1)]\n",
        "\n",
        "    for t in range(iterations):\n",
        "        for i in range(grid_size):\n",
        "            for j in range(grid_size):\n",
        "                fitness = obj_fn(grid[i, j])\n",
        "                if fitness < best_fitness:\n",
        "                    best_fitness = fitness\n",
        "                    best_solution = grid[i, j]\n",
        "\n",
        "        new_grid = np.copy(grid)\n",
        "        for i in range(grid_size):\n",
        "            for j in range(grid_size):\n",
        "                neighbors = []\n",
        "                for dx, dy in neighborhood:\n",
        "                    ni, nj = (i + dx) % grid_size, (j + dy) % grid_size\n",
        "                    neighbors.append(grid[ni, nj])\n",
        "                new_grid[i, j] = update_cell_state(grid[i, j], neighbors, lb, ub)\n",
        "\n",
        "        grid = np.copy(new_grid)\n",
        "        print(f\"Iteration {t+1}/{iterations}, Best Fitness: {best_fitness}\")\n",
        "\n",
        "    return best_fitness, best_solution\n",
        "\n",
        "# Print student details\n",
        "print(\"StudentName: Abhinav Raghu\")\n",
        "print(\"USN: 1BM22CS005\")\n",
        "\n",
        "# Parameters\n",
        "dim = 5\n",
        "grid_size = 10\n",
        "iterations = 5\n",
        "lb = -10\n",
        "ub = 10\n",
        "\n",
        "# Run the algorithm\n",
        "best_fitness, best_solution = parallel_cellular_algorithm(obj_fn, dim, grid_size, iterations, lb, ub)\n",
        "\n",
        "# Print final results\n",
        "print(\"\\nFinal Best Fitness:\", best_fitness)\n",
        "print(\"Final Best Solution:\", best_solution)"
      ]
    }
  ]
}